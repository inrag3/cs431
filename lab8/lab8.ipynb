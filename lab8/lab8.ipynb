{
 "cells": [
  {
   "cell_type": "code",
   "execution_count": null,
   "id": "85e9ced6-fe9a-41de-825e-6e19acf39f74",
   "metadata": {},
   "outputs": [],
   "source": [
    "import numpy as np\n",
    "import cv2\n",
    "import matplotlib.pyplot as plt\n",
    "import tqdm"
   ]
  },
  {
   "cell_type": "code",
   "execution_count": null,
   "id": "1bcb33d1-9fa4-4b39-a05c-94f665db4709",
   "metadata": {},
   "outputs": [],
   "source": [
    "# cоздаёv матрицу Y, которая представляют соседние значения каждого пикселя\n",
    "def to_Y(image):\n",
    "  windows = np.lib.stride_tricks.sliding_window_view(image, (3,3))\n",
    "  Y = []\n",
    "  for i in range(windows.shape[0]):\n",
    "      for j in range(windows.shape[1]):\n",
    "          window = windows[i, j].flatten()\n",
    "          window_without_center = np.delete(window, 4)\n",
    "          Y.append(window_without_center)\n",
    "\n",
    "  return np.array(Y)"
   ]
  },
  {
   "cell_type": "code",
   "execution_count": null,
   "id": "33f31011-0b42-46ef-89da-21b3a6dc6b12",
   "metadata": {},
   "outputs": [],
   "source": [
    "# двумерный биномиальный фильтр для фильтрации ошибок на E-шаге\n",
    "def generate_binomial_filter(n):\n",
    "    binomial_coeffs = [comb(n - 1, k) for k in range(n)]\n",
    "    kernel = np.outer(binomial_coeffs, binomial_coeffs)\n",
    "    return kernel / np.sum(kernel)"
   ]
  },
  {
   "cell_type": "code",
   "execution_count": null,
   "id": "2d6b101b-78d6-43d7-9fc1-285920ee5f76",
   "metadata": {},
   "outputs": [],
   "source": [
    "def em_algorithm(image, N=1, max_iterations=100):\n",
    "    image = image / 255.0\n",
    "    height, width = image.shape\n",
    "    b_image = cv2.copyMakeBorder(image, 1, 1, 1, 1, cv2.BORDER_REFLECT_101)\n",
    "\n",
    "    alpha = np.random.rand(2 * N + 1, 2 * N + 1) \n",
    "    alpha[N, N] = 0 #Матрица весов\n",
    "    sigm = 0.005 # степень разброса вероятностцй на Е шаге\n",
    "    p0 = 1 / (np.max(image) - np.min(image))\n",
    "    Y = to_Y(b_image)\n",
    "    y_s = image.flatten()\n",
    "\n",
    "    h = generate_binomial_filter(3)\n",
    "\n",
    "    w = np.zeros(image.shape)\n",
    "    R = np.zeros(image.shape)\n",
    "    P = np.zeros(image.shape)\n",
    "\n",
    "    for iteration in tqdm.tqdm(range(max_iterations)):\n",
    "        # E\n",
    "        sum_wR = 0\n",
    "        R = np.abs(cv2.filter2D(image, -1, alpha) - image)\n",
    "        R = cv2.filter2D(R, -1, h)\n",
    "\n",
    "        t = 1 / (sigm * np.sqrt(2 * np.pi))\n",
    "        for y in range(0, height):\n",
    "            for x in range(0, width):\n",
    "                P[y, x] = t * (np.exp(-(R[y, x] ** 2) / (2 * sigm**2)))\n",
    "                w[y,x] = P[y, x] / (P[y, x] + p0)\n",
    "                sum_wR += w[y,x] * R[y, x]**2\n",
    "\n",
    "        w_flat  = w.flatten()\n",
    "\n",
    "        # M\n",
    "        sigm = np.sqrt(sum_wR / w.sum())\n",
    "        alpha_new = np.linalg.inv((Y.T * w_flat.T) @ Y) @ (Y.T * w_flat.T) @ y_s\n",
    "        alpha_matrix = np.reshape(np.insert(alpha_new, alpha_new.size // 2, 0), (2 * N + 1, 2 * N + 1))\n",
    "\n",
    "        if np.linalg.norm(alpha_matrix - alpha) < 1e-6:\n",
    "            break\n",
    "\n",
    "        alpha = alpha_matrix\n",
    "\n",
    "    return P"
   ]
  },
  {
   "cell_type": "code",
   "execution_count": null,
   "id": "a1ae726c-e5a6-499b-887b-f24d2f3c5156",
   "metadata": {},
   "outputs": [],
   "source": [
    "input_image = cv2.imread('image2.png', cv2.IMREAD_GRAYSCALE)\n",
    "P = em_algorithm(input_image)"
   ]
  },
  {
   "cell_type": "code",
   "execution_count": null,
   "id": "4d1ebca3-3f26-4eca-a00e-8c66c83af1fc",
   "metadata": {},
   "outputs": [],
   "source": [
    "plt.imshow(P, cmap=\"gray\")"
   ]
  },
  {
   "cell_type": "code",
   "execution_count": null,
   "id": "1bd7a8d5-db3d-4fad-ae10-5933d69a2726",
   "metadata": {},
   "outputs": [],
   "source": [
    "spectrum = np.fft.fft2(input_image)\n",
    "spectrum_shift = np.fft.fftshift(spectrum)\n",
    "plt.figure(figsize=(12, 6))\n",
    "plt.subplot(1, 2, 1)\n",
    "plt.imshow(20 * np.log(np.abs(spectrum_shift)), cmap='gray')\n",
    "plt.axis('off')\n",
    "\n",
    "spectrum = np.fft.fft2(P)\n",
    "spectrum_shift = np.fft.fftshift(spectrum)\n",
    "plt.subplot(1, 2, 2)\n",
    "plt.imshow(20 * np.log(np.abs(spectrum_shift)), cmap='gray')\n",
    "plt.axis('off')"
   ]
  },
  {
   "cell_type": "code",
   "execution_count": null,
   "id": "da3c974e-695b-4776-9226-ef29b43e6845",
   "metadata": {},
   "outputs": [],
   "source": [
    "input_image = cv2.imread('image1.jpg', cv2.IMREAD_GRAYSCALE)\n",
    "P = em_algorithm(input_image)"
   ]
  },
  {
   "cell_type": "code",
   "execution_count": null,
   "id": "8da4da7e-08e0-4b27-a06e-6df8cd90f6da",
   "metadata": {},
   "outputs": [],
   "source": [
    "spectrum = np.fft.fft2(input_image, norm = 'ortho')\n",
    "spectrum_shift = np.fft.fftshift(spectrum)\n",
    "plt.figure(figsize=(12, 6))\n",
    "plt.subplot(1, 2, 1)\n",
    "plt.imshow(20 * np.log(np.abs(spectrum_shift)), cmap='gray')\n",
    "plt.axis('off')\n",
    "\n",
    "spectrum = np.fft.fft2(P, norm = 'ortho')\n",
    "spectrum_shift = np.fft.fftshift(spectrum)\n",
    "plt.subplot(1, 2, 2)\n",
    "plt.imshow(20 * np.log(np.abs(spectrum_shift)), cmap='gray')\n",
    "plt.axis('off')"
   ]
  },
  {
   "cell_type": "code",
   "execution_count": null,
   "id": "4b3df86c-1f71-4a46-b297-2d5b65c71a6b",
   "metadata": {},
   "outputs": [],
   "source": []
  },
  {
   "cell_type": "code",
   "execution_count": null,
   "id": "65e2cc34-0356-43a8-a041-6a5fb64584f4",
   "metadata": {},
   "outputs": [],
   "source": []
  }
 ],
 "metadata": {
  "kernelspec": {
   "display_name": "Python 3 (ipykernel)",
   "language": "python",
   "name": "python3"
  },
  "language_info": {
   "codemirror_mode": {
    "name": "ipython",
    "version": 3
   },
   "file_extension": ".py",
   "mimetype": "text/x-python",
   "name": "python",
   "nbconvert_exporter": "python",
   "pygments_lexer": "ipython3",
   "version": "3.12.3"
  }
 },
 "nbformat": 4,
 "nbformat_minor": 5
}
